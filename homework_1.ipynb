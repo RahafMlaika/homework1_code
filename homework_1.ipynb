{
 "cells": [
  {
   "cell_type": "code",
   "execution_count": 7,
   "id": "39a9130a",
   "metadata": {},
   "outputs": [
    {
     "name": "stdout",
     "output_type": "stream",
     "text": [
      "{'HTTP': 60, 'HTTPS': 443, 'FTP': 20, 'DNS': 5}\n"
     ]
    }
   ],
   "source": [
    "#first question A\n",
    "l1=[\"HTTP\",\"HTTPS\",\"FTP\",\"DNS\"]\n",
    "l2=[60,443,20,5]\n",
    "#defined an empty dictionary fo joining the 2 list inside\n",
    "dic={}\n",
    "for i in range(len(l1)):\n",
    "    #each elemenet from l1 and l2 at the same please I used it as a key and value for the new dictionart\n",
    "    dic[l1[i]]=l2[i]\n",
    "     \n",
    "print(dic)"
   ]
  },
  {
   "cell_type": "code",
   "execution_count": 1,
   "id": "0a438854",
   "metadata": {},
   "outputs": [
    {
     "name": "stdout",
     "output_type": "stream",
     "text": [
      "[0, 1, 2, 3, 5, 7, 11, 13, 17, 19, 23, 29, 31, 37, 41, 43, 47, 53, 59, 61, 67, 71, 73, 79, 83, 89, 97, 101, 103, 107, 109, 113, 127, 131, 137, 139, 149, 151, 157, 163, 167, 173, 179, 181, 191, 193, 197, 199, 211, 223, 227, 229, 233, 239, 241, 251, 257, 263, 269, 271, 277, 281, 283, 293, 307, 311, 313, 317, 331, 337, 347, 349, 353, 359, 367, 373, 379, 383, 389, 397, 401, 409, 419, 421, 431, 433, 439, 443, 449, 457, 461, 463, 467, 479, 487, 491, 499, 503, 509, 521, 523, 541, 547, 557, 563, 569, 571, 577, 587, 593, 599, 601, 607, 613, 617, 619, 631, 641, 643, 647, 653, 659, 661, 673, 677, 683, 691, 701, 709, 719, 727, 733, 739, 743, 751, 757, 761, 769, 773, 787, 797, 809, 811, 821, 823, 827, 829, 839, 853, 857, 859, 863, 877, 881, 883, 887, 907, 911, 919, 929, 937, 941, 947, 953, 967, 971, 977, 983, 991, 997]\n"
     ]
    }
   ],
   "source": [
    "#first question B\n",
    "\"\"\"first I used for loop for generat numbers from 0 to 1000,and then another for loop from 2 to x because \n",
    "I have to divird each number by all numbers that snaller then this number and testing the condition if this number x can't \n",
    "be divided of any number from 2 range\"\"\"\n",
    "\n",
    "list=[x for x in range (1000) if all(x%y!=0 for y in range(2,x))]\n",
    "print (list)"
   ]
  },
  {
   "cell_type": "code",
   "execution_count": 20,
   "id": "cae65123",
   "metadata": {},
   "outputs": [
    {
     "name": "stdout",
     "output_type": "stream",
     "text": [
      "physicse"
     ]
    }
   ],
   "source": [
    "#first question C\n",
    "list=[\"network\",\"math\",\"programming\",\"physicse\",\"music\"]\n",
    "for i in range (len(list)):\n",
    "    \"\"\" each element from list I tested if it starts with \"ph\",startswith can dell with just string\"\"\"\n",
    "    if list[i].startswith(\"ph\"):\n",
    "        \n",
    "        print(list[i],end=\"\")\n"
   ]
  },
  {
   "cell_type": "code",
   "execution_count": 1,
   "id": "c1af7e80",
   "metadata": {},
   "outputs": [
    {
     "name": "stdout",
     "output_type": "stream",
     "text": [
      "{1: 2, 2: 3, 3: 4, 4: 5, 5: 6, 6: 7, 7: 8, 8: 9, 9: 10, 10: 11}\n"
     ]
    }
   ],
   "source": [
    "#first question D\n",
    "\"\"\"from the range 1 to 11:x is the key of the dictionary that I have to creat and (x+1) is the value\"\"\"\n",
    "dic={x:x+1 for x in range(1,11)}\n",
    "print(dic)"
   ]
  },
  {
   "cell_type": "code",
   "execution_count": 2,
   "id": "1e886265",
   "metadata": {},
   "outputs": [
    {
     "name": "stdout",
     "output_type": "stream",
     "text": [
      "please enter your number\t1111\n",
      "15\n"
     ]
    }
   ],
   "source": [
    "#second question\n",
    "\"\"\"in def main I ask user to inputs any binary number,\n",
    "   I test if the input's number is int,\n",
    "    then used the binary_to_decimal function to calculate the dicemal_equevalent\"\"\"\n",
    "\n",
    "def main():\n",
    "    number=int(input(\"please enter your number\\n\")) \n",
    "    if isinstance(number,int):\n",
    "        binary_to_decimal(number)\n",
    "        \n",
    "\"\"\"function  binary_to_decimal:\n",
    "   at first I assume that binary_to_decimal is 0 and (i) is like an counter starts from 0,\n",
    "   in while loop I divided the entered number by 10 to have just the diget in the right,\n",
    "   and after that I multipled it with 2^i,\n",
    "   that at the first time of the loop,\n",
    "   for nexit times of loop we update the dicemal_equevalent and i by add new calculuses to the priveous one\"\"\"\n",
    "\n",
    "def binary_to_decimal(binary):\n",
    "    dicemal_equevalent=0\n",
    "    i=0\n",
    "    while(binary):\n",
    "        dec = binary%10\n",
    "        dicemal_equevalent=dicemal_equevalent+ dec*pow(2,i)\n",
    "        binary=binary//10\n",
    "        i+=1\n",
    "    print (dicemal_equevalent)\n",
    "    \n",
    "main()"
   ]
  },
  {
   "cell_type": "code",
   "execution_count": 1,
   "id": "5f2f21b3",
   "metadata": {},
   "outputs": [
    {
     "name": "stdout",
     "output_type": "stream",
     "text": [
      "please enter your name\tmohammad\n",
      "please enter your ID\t2544\n",
      "longest river in the world AL_NEL\n",
      "the heightest mount in the world Everest\n",
      "the biggest planite Jupiter\n",
      "how many continent 7\n",
      "the circumference of the Earth? 40000\n",
      "the mase of the Earth? 2589\n",
      "the sixth planet Sturn\n",
      "which marine animal is the wittiest Delphinuse\n",
      "smallest continent Aystralia\n",
      "longest building in the world Burj Khalifa\n",
      "light speed 3*10^8\n",
      "first woman she won Nobel prize Mari Curie\n",
      "unit of magnetic field Tesla\n",
      "the red planet Mars\n",
      "which Dwarf_planet Ploto\n",
      "longest fall in the world Angel Fall\n",
      "biggest statehood in the world Russia\n",
      "when voice moves from air to water which parameter is still constant frequency\n",
      "smallest statehood Vatican\n",
      "who discovered the Penicillin Alexander Flamming\n",
      "student name : mohammad \n",
      " his number : 2544 \n",
      " his grade : 11\n"
     ]
    }
   ],
   "source": [
    "#therd question\n",
    "import json\n",
    "def main():\n",
    "    dic={}   #an empty dictionary for storing the student's answers\n",
    "    grade=0  #to stor the grade\n",
    "    #student's information\n",
    "    student_name=input(\"please enter your name\\t\")\n",
    "    student_id=int(input(\"please enter your ID\\t\"))\n",
    "    #opening the json file where I stor the questions and it's answers,and loading it's contents\n",
    "    readingfile=open(\"D:\\\\homework1.json\",'r')\n",
    "    dicfile=json.load(readingfile)\n",
    "    for key in dicfile.keys():\n",
    "        #ask each question and stor the answer in a variable\n",
    "        answer=input(key)\n",
    "        #I add every question as a key for the dictionary (dic) and it's answer as a value\n",
    "        dic[key]=answer\n",
    "        #if the answer that the student write is like the ine that stors in the file: increase the grade by 1\n",
    "        if dicfile[key]==answer:\n",
    "            grade+=1\n",
    "    #printing student name, his university number and his grade        \n",
    "    print(\"student name :\",student_name,\"\\n\",\"his number :\",student_id,\"\\n\",\"his grade :\",grade)\n",
    "#function  write_in_file to stor the cotents of the dic to a new json file       \n",
    "def write_in_file(dict,writ_file):\n",
    "    writ_file=open(\"D:\\\\answers.json\",'w')\n",
    "    writ_file.writelines(dict) \n",
    "    print(dict)\n",
    "    \n",
    "main()\n",
    "    "
   ]
  },
  {
   "cell_type": "code",
   "execution_count": null,
   "id": "94013ae9",
   "metadata": {},
   "outputs": [],
   "source": []
  }
 ],
 "metadata": {
  "kernelspec": {
   "display_name": "Python 3 (ipykernel)",
   "language": "python",
   "name": "python3"
  },
  "language_info": {
   "codemirror_mode": {
    "name": "ipython",
    "version": 3
   },
   "file_extension": ".py",
   "mimetype": "text/x-python",
   "name": "python",
   "nbconvert_exporter": "python",
   "pygments_lexer": "ipython3",
   "version": "3.10.9"
  }
 },
 "nbformat": 4,
 "nbformat_minor": 5
}
